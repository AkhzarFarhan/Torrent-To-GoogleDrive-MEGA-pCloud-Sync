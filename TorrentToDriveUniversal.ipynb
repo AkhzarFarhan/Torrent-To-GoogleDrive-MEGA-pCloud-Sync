{
  "nbformat": 4,
  "nbformat_minor": 0,
  "metadata": {
    "colab": {
      "name": "TorrentToDriveUniversal.ipynb",
      "provenance": [],
      "private_outputs": true,
      "collapsed_sections": []
    },
    "kernelspec": {
      "name": "python3",
      "display_name": "Python 3"
    }
  },
  "cells": [
    {
      "cell_type": "markdown",
      "metadata": {
        "id": "J8nrZqTn99AJ",
        "colab_type": "text"
      },
      "source": [
        "#Packages"
      ]
    },
    {
      "cell_type": "code",
      "metadata": {
        "id": "N3uMmC9MCiVs",
        "colab_type": "code",
        "colab": {}
      },
      "source": [
        "# !apt-get install transmission-cli\n",
        "# !apt-get install aria2\n",
        "# !apt-get install unzip\n",
        "!pip3 install youtube-dl\n",
        "# !pip3 install moviepy\n",
        "# !pip3 install mega.py\n",
        "# !apt-get install zip"
      ],
      "execution_count": 0,
      "outputs": []
    },
    {
      "cell_type": "code",
      "metadata": {
        "id": "ScIAt_2JKeiL",
        "colab_type": "code",
        "colab": {}
      },
      "source": [
        "from google.colab import drive\n",
        "drive.mount('/content/drive')"
      ],
      "execution_count": 0,
      "outputs": []
    },
    {
      "cell_type": "markdown",
      "metadata": {
        "id": "1hTLBXt-95CT",
        "colab_type": "text"
      },
      "source": [
        "#Transmission"
      ]
    },
    {
      "cell_type": "code",
      "metadata": {
        "id": "nQh5PaRHC4TG",
        "colab_type": "code",
        "colab": {}
      },
      "source": [
        "!transmission-cli -w '/content/drive/My Drive/Movies' 'magnet:?xt=urn:btih:040212FE7DBB29F3B9672B91318783F15559E8F2&dn=Sapiens%3A%20A%20Brief%20History%20of%20Humankind%20-%20Yuval%20Harari&tr=udp%3A%2F%2Ftracker.coppersurfer.tk%3A6969%2Fannounce&tr=udp%3A%2F%2F9.rarbg.to%3A2920%2Fannounce&tr=udp%3A%2F%2Ftracker.opentrackr.org%3A1337&tr=udp%3A%2F%2Ftracker.internetwarriors.net%3A1337%2Fannounce&tr=udp%3A%2F%2Ftracker.leechers-paradise.org%3A6969%2Fannounce&tr=udp%3A%2F%2Ftracker.coppersurfer.tk%3A6969%2Fannounce&tr=udp%3A%2F%2Ftracker.pirateparty.gr%3A6969%2Fannounce&tr=udp%3A%2F%2Ftracker.cyberia.is%3A6969%2Fannounce'"
      ],
      "execution_count": 0,
      "outputs": []
    },
    {
      "cell_type": "markdown",
      "metadata": {
        "id": "dNgKow5W92_D",
        "colab_type": "text"
      },
      "source": [
        "#aria2c"
      ]
    },
    {
      "cell_type": "code",
      "metadata": {
        "id": "hp_DBmVeC416",
        "colab_type": "code",
        "colab": {}
      },
      "source": [
        "%cd '/content/drive/My Drive/Movies/'\n",
        "!aria2c --seed-time=0 'magnet:?xt=urn:btih:DEF25B0F2B6B6AB6F27F14FDC83B077291A7516E&dn=The%20Five%20Elements%20of%20Effective%20Thinking%20%5BAudiobook%5D&tr=udp%3A%2F%2Ftracker.coppersurfer.tk%3A6969%2Fannounce&tr=udp%3A%2F%2F9.rarbg.to%3A2920%2Fannounce&tr=udp%3A%2F%2Ftracker.opentrackr.org%3A1337&tr=udp%3A%2F%2Ftracker.internetwarriors.net%3A1337%2Fannounce&tr=udp%3A%2F%2Ftracker.leechers-paradise.org%3A6969%2Fannounce&tr=udp%3A%2F%2Ftracker.coppersurfer.tk%3A6969%2Fannounce&tr=udp%3A%2F%2Ftracker.pirateparty.gr%3A6969%2Fannounce&tr=udp%3A%2F%2Ftracker.cyberia.is%3A6969%2Fannounce'"
      ],
      "execution_count": 0,
      "outputs": []
    },
    {
      "cell_type": "markdown",
      "metadata": {
        "id": "kqm2rMyX9yH6",
        "colab_type": "text"
      },
      "source": [
        "#Video Trimming"
      ]
    },
    {
      "cell_type": "code",
      "metadata": {
        "id": "7MZwSf4IC4za",
        "colab_type": "code",
        "colab": {}
      },
      "source": [
        "from moviepy.video.io.ffmpeg_tools import ffmpeg_extract_subclip\n",
        "start_time = 1800*5\n",
        "end_time = 1800*5 + 360\n",
        "target = 'Part-6.mp4'\n",
        "ffmpeg_extract_subclip(\"/content/drive/My Drive/Movies/FILE_NAME\", start_time, end_time, targetname=target)"
      ],
      "execution_count": 0,
      "outputs": []
    },
    {
      "cell_type": "markdown",
      "metadata": {
        "id": "Y7nL4Com9uCk",
        "colab_type": "text"
      },
      "source": [
        "#zip-unzip"
      ]
    },
    {
      "cell_type": "code",
      "metadata": {
        "id": "yQGKCDYpC4vB",
        "colab_type": "code",
        "colab": {}
      },
      "source": [
        "!unzip 'FILE_NAME'"
      ],
      "execution_count": 0,
      "outputs": []
    },
    {
      "cell_type": "code",
      "metadata": {
        "id": "HeJsAYaBJA0i",
        "colab_type": "code",
        "colab": {}
      },
      "source": [
        "!zip -r 'The Five Elements of Effective Thinking (Unabridged).zip' 'The Five Elements of Effective Thinking (Unabridged)'"
      ],
      "execution_count": 0,
      "outputs": []
    },
    {
      "cell_type": "markdown",
      "metadata": {
        "id": "cWROh-tA9p1h",
        "colab_type": "text"
      },
      "source": [
        "#youtube-dl"
      ]
    },
    {
      "cell_type": "code",
      "metadata": {
        "id": "VRnrI-EYC4sW",
        "colab_type": "code",
        "colab": {}
      },
      "source": [
        "%cd '/content/drive/My Drive/Movies/'\n",
        "# !youtube-dl https://www.youtube.com/playlist?list=PLgirwYDDPtS2Tz7K6PZMYi_d8SeXQg-T5"
      ],
      "execution_count": 0,
      "outputs": []
    },
    {
      "cell_type": "code",
      "metadata": {
        "id": "X_mQWbeWC4oz",
        "colab_type": "code",
        "colab": {}
      },
      "source": [
        "%cd '/content/drive/My Drive/Movies/'\n",
        "!ls -l"
      ],
      "execution_count": 0,
      "outputs": []
    },
    {
      "cell_type": "markdown",
      "metadata": {
        "id": "-fWbZR079T-J",
        "colab_type": "text"
      },
      "source": [
        "#pCloud"
      ]
    },
    {
      "cell_type": "code",
      "metadata": {
        "id": "P0O2Sq4BC4mE",
        "colab_type": "code",
        "colab": {}
      },
      "source": [
        "import requests\n",
        "session = requests.Session()\n",
        "file_name = 'The Five Elements of Effective Thinking (Unabridged).zip'\n",
        "files = {file_name: open('/content/drive/My Drive/Movies/{f}'.format(f=file_name), 'rb')}\n",
        "data = {'username': 'YOUR_USERNAME', 'password': 'YOURPASSWORD'}\n",
        "post = session.post('https://api.pcloud.com/uploadfile', files=files, data=data)\n",
        "print(post.json()['metadata'][0]['name'])"
      ],
      "execution_count": 0,
      "outputs": []
    },
    {
      "cell_type": "markdown",
      "metadata": {
        "id": "RPohUn_I9drM",
        "colab_type": "text"
      },
      "source": [
        "#MEGA"
      ]
    },
    {
      "cell_type": "code",
      "metadata": {
        "id": "SHKyD8ETC4i8",
        "colab_type": "code",
        "colab": {}
      },
      "source": [
        "# https://pypi.org/project/mega.py/\n",
        "\n",
        "from mega import Mega\n",
        "mega = Mega()\n",
        "m = mega.login('YOUR_EMAIL', 'YOUR_PASSWORD')"
      ],
      "execution_count": 0,
      "outputs": []
    },
    {
      "cell_type": "code",
      "metadata": {
        "id": "bpE3lj-tC4gG",
        "colab_type": "code",
        "colab": {}
      },
      "source": [
        "# details = m.get_user()\n",
        "# quota = m.get_quota()\n",
        "# files = m.get_files()\n",
        "# file = m.upload('myfile.doc')\n",
        "# m.get_upload_link(file)\n",
        "\n",
        "folder = m.find('Movies')\n",
        "m.upload('/content/drive/My Drive/Movies/Battle Of Empire Fetih 1453 HD - Hindi Dubbing-Z2Twf71i8uQ.mp4', folder[0])"
      ],
      "execution_count": 0,
      "outputs": []
    },
    {
      "cell_type": "markdown",
      "metadata": {
        "id": "oGunv6b99hmJ",
        "colab_type": "text"
      },
      "source": [
        "#YouTube API"
      ]
    },
    {
      "cell_type": "code",
      "metadata": {
        "id": "_I88leW7C4c3",
        "colab_type": "code",
        "colab": {}
      },
      "source": [
        "# -*- coding: utf-8 -*-\n",
        "\n",
        "# Sample Python code for youtube.videos.insert\n",
        "# NOTES:\n",
        "# 1. This sample code uploads a file and can't be executed via this interface.\n",
        "#    To test this code, you must run it locally using your own API credentials.\n",
        "#    See: https://developers.google.com/explorer-help/guides/code_samples#python\n",
        "# 2. This example makes a simple upload request. We recommend that you consider\n",
        "#    using resumable uploads instead, particularly if you are transferring large\n",
        "#    files or there's a high likelihood of a network interruption or other\n",
        "#    transmission failure. To learn more about resumable uploads, see:\n",
        "#    https://developers.google.com/api-client-library/python/guide/media_upload\n",
        "# %cd '/content/drive/My Drive/Movies/'\n",
        "import os\n",
        "\n",
        "import google_auth_oauthlib.flow\n",
        "import googleapiclient.discovery\n",
        "import googleapiclient.errors\n",
        "\n",
        "from googleapiclient.http import MediaFileUpload\n",
        "\n",
        "scopes = [\"https://www.googleapis.com/auth/youtube.upload\"]\n",
        "\n",
        "def main():\n",
        "    # Disable OAuthlib's HTTPS verification when running locally.\n",
        "    # *DO NOT* leave this option enabled in production.\n",
        "    os.environ[\"OAUTHLIB_INSECURE_TRANSPORT\"] = \"1\"\n",
        "\n",
        "    api_service_name = \"youtube\"\n",
        "    api_version = \"v3\"\n",
        "    client_secrets_file = \"CLIENT_SECRET.json\"\n",
        "\n",
        "    # Get credentials and create an API client\n",
        "    flow = google_auth_oauthlib.flow.InstalledAppFlow.from_client_secrets_file(\n",
        "        client_secrets_file, scopes)\n",
        "    credentials = flow.run_console()\n",
        "    youtube = googleapiclient.discovery.build(\n",
        "        api_service_name, api_version, credentials=credentials)\n",
        "    \n",
        "    return youtube\n",
        "\n",
        "if __name__ == \"__main__\":\n",
        "    youtube = main()\n",
        "    # for i in range(1,8,1):\n",
        "    #     file_name = 'Breaking Bad s01e0{} 720p.BRrip.Sujaidr.mkv'.format(i)\n",
        "    #     main(file_name)"
      ],
      "execution_count": 0,
      "outputs": []
    },
    {
      "cell_type": "code",
      "metadata": {
        "id": "nXSS6ADIC4Z0",
        "colab_type": "code",
        "colab": {}
      },
      "source": [
        "def upload(youtube, file_name):\n",
        "    request = youtube.videos().insert(\n",
        "        part=\"snippet,status\",\n",
        "        body={\n",
        "          \"snippet\": {\n",
        "            \"categoryId\": \"22\",\n",
        "            \"description\": \"My private Netflix\",\n",
        "            \"title\": file_name\n",
        "          },\n",
        "          \"status\": {\n",
        "            \"privacyStatus\": \"private\"\n",
        "          }\n",
        "        },\n",
        "        \n",
        "        # TODO: For this request to work, you must replace \"YOUR_FILE\"\n",
        "        #       with a pointer to the actual file you are uploading.\n",
        "        media_body=MediaFileUpload(file_name)\n",
        "    )\n",
        "    response = request.execute()\n",
        "\n",
        "    print(response['snippet']['title'])\n",
        "\n",
        "\n",
        "for i in range(4,8,1):\n",
        "    file_name = 'Breaking Bad s01e0{i} 720p.BRrip.Sujaidr.mkv'.format(i=i)\n",
        "    upload(youtube, file_name)"
      ],
      "execution_count": 0,
      "outputs": []
    },
    {
      "cell_type": "code",
      "metadata": {
        "id": "iUOmErVEDUR-",
        "colab_type": "code",
        "colab": {}
      },
      "source": [
        ""
      ],
      "execution_count": 0,
      "outputs": []
    }
  ]
}